{
 "cells": [
  {
   "cell_type": "markdown",
   "metadata": {},
   "source": [
    "# Sigma Point Sets\n",
    "\n",
    "Here we outline the sigma point sets available in TUT. We present algorithms for generating sigma point sets for a standard Gaussian weighting function, or prior distribution in the Bayesian inference parlance, $\\mathcal{N}(\\pmb{0}, I)$ in $n$ dimensions with mean $\\pmb{0}$ and identity covariance. Sigma points are denoted $\\chi_i$, mean weights $w_m^i$, and covariance weights $w_c^i$. General Gaussian priors $\\mathcal{N}(\\pmb{x_0}, P_x)$ are handled by transforming each sigma points $\\chi_i$ according to \n",
    "\\begin{equation}\n",
    "\\pmb{\\chi_i}' = \\sqrt{P_x} \\pmb{\\chi_i} + \\pmb{x_0}\n",
    "\\end{equation}\n",
    "where $\\sqrt{P_x}$ is a matrix square root of $P_x$. Weights remain unchanged. The notation $\\pmb{e_i}$ refers to the $i$-th column of the $n \\times n$ identity matrix. The following sigma point sets are available in the Totally Unscented Transform library (TUT). \n",
    "\n",
    "<table style=\"width:100%\">\n",
    "  <tr>\n",
    "    <th>Shorthand Name</th>\n",
    "    <th>Number of Points</th> \n",
    "    <th>Order</th>\n",
    "  </tr>\n",
    "  <tr>\n",
    "    <td>merwe</td>\n",
    "    <td>$2n+1$</td> \n",
    "    <td>3</td>\n",
    "  </tr>\n",
    "  <tr>\n",
    "    <td>gauss</td>\n",
    "    <td>$2n+1$</td> \n",
    "    <td>3</td>\n",
    "  </tr>\n",
    "  <tr>\n",
    "    <td>julier</td>\n",
    "    <td>$2n+1$</td> \n",
    "    <td>3</td>\n",
    "  </tr>\n",
    "  <tr>\n",
    "    <td>menegaz</td>\n",
    "    <td>$n+1$</td> \n",
    "    <td>3</td>\n",
    "  </tr>\n",
    "  <tr>\n",
    "    <td>simplex</td>\n",
    "    <td>$n+1$</td> \n",
    "    <td>3</td>\n",
    "  </tr>\n",
    "  <tr>\n",
    "    <td>gauss_hermite</td>\n",
    "    <td>$3^n$</td> \n",
    "    <td>3</td>\n",
    "  </tr>\n",
    "  <tr>\n",
    "    <td>zm</td>\n",
    "    <td>$2n^2 + 1$</td> \n",
    "    <td>5</td>\n",
    "  </tr>\n",
    "    <tr>\n",
    "    <td>mysovskikh</td>\n",
    "    <td>$n^2 + 3n + 3$</td> \n",
    "    <td>5</td>\n",
    "  </tr>\n",
    "</table>\n",
    "\n",
    "\n",
    "\n",
    "## Van der Merwe Sigma Points\n",
    "\n",
    "The default set of sigma points in in filterpy is the Van der Merwe sigma point set, originally introduced in Rudolph Van der Merwe's PhD dissertation \\cite{Merwe2004}. The $2n + 1$ sigma points are given by\n",
    "\\begin{equation}\n",
    "\\pmb{\\chi_i} =\n",
    "\\begin{cases} \n",
    "      \\pmb{x_0} & i = 0 \\\\\n",
    "      \\pmb{x_0} - \\sqrt{n + \\lambda} \\pmb{e_i} & i = 1, \\cdots, n\\\\\n",
    "      \\pmb{x_0} + \\sqrt{n + \\lambda} \\pmb{e_i} & i = n+1, \\cdots, 2n\n",
    "\\end{cases}\n",
    "\\end{equation}\n",
    "where\n",
    "\\begin{equation}\n",
    "\\lambda = \\alpha^2 (n + \\kappa) - n.\n",
    "\\end{equation}\n",
    "\n",
    "There are different weights $w_i^m$ and $w_i^c$ for computing mean and covariance estimates respectively:\n",
    "\n",
    "\\begin{equation}\n",
    "w_i^m =\n",
    "\\begin{cases} \n",
    "      \\frac{\\lambda}{n + \\lambda} & i = 0 \\\\\n",
    "      \\frac{1}{2(n+\\lambda)} & i = 1, \\cdots, 2n\n",
    "\\end{cases}\n",
    "\\end{equation}\n",
    "\n",
    "\\begin{equation}\n",
    "w_i^c =\n",
    "\\begin{cases} \n",
    "      \\frac{\\lambda}{n + \\lambda} + 1 - \\alpha^2 + \\beta & i = 0 \\\\\n",
    "      \\frac{1}{2(n+\\lambda)} & i = 1, \\cdots, 2n\n",
    "\\end{cases}\n",
    "\\end{equation}\n",
    "\n",
    "Appropriate default choices of the scaling parameters are, $\\beta = 2$, $\\kappa = 3 - n$, and $0 \\leq \\alpha \\leq 1$. Unless otherwise specified, these are the values used by TUT."
   ]
  },
  {
   "cell_type": "code",
   "execution_count": 1,
   "metadata": {
    "scrolled": false
   },
   "outputs": [
    {
     "data": {
      "text/plain": [
       "<Figure size 640x480 with 1 Axes>"
      ]
     },
     "metadata": {},
     "output_type": "display_data"
    }
   ],
   "source": [
    "from filterpy.kalman.tut.tut_sigmas import TutSigmaPoints\n",
    "import numpy as np\n",
    "import matplotlib.pyplot as plt\n",
    "\n",
    "# Prior mean\n",
    "x0 = np.zeros(2)\n",
    "# Prior covariance\n",
    "Px = np.eye(2)\n",
    "\n",
    "# Van der Merwe sigma points in 2D\n",
    "points = TutSigmaPoints()\n",
    "X1, wm, wc = points.get_set(x0, Px, set_name = 'merwe')\n",
    "# Different scaling parameters\n",
    "X2, wm, wc = points.get_set(x0, Px, set_name = 'merwe', alpha = 0.9)\n",
    "\n",
    "plt.scatter(X1[0,:], X1[1,:], s = 250.*wm / wm.max())\n",
    "plt.scatter(X2[0,:], X2[1,:], s = 250.*wm / wm.max(), marker = '^')\n",
    "plt.show()\n"
   ]
  },
  {
   "cell_type": "markdown",
   "metadata": {},
   "source": [
    "## Gauss Sigma Points\n",
    "\n",
    "Gauss sigma points are just van der Merwe sigma points with $\\alpha=1$, $\\beta=0$ and $\\kappa=3$."
   ]
  },
  {
   "cell_type": "markdown",
   "metadata": {},
   "source": [
    "## Julier Sigma Points\n",
    "\n",
    "Another commonly used sigma point set is the Julier set \\cite{Julier1997}.  It has $2n+1$ points with a single scaling parameter $\\kappa$. Setting $\\kappa = 3 - n$ results in a method that matches one higher order moment, and hence this is the preferred default value. As with all scaling parameters, however, the best choice is problem dependent. Points are given by:\n",
    "\\begin{equation}\n",
    "\\pmb{\\chi_i} =\n",
    "\\begin{cases} \n",
    "      \\pmb{x_0} & i = 0 \\\\\n",
    "      \\pmb{x_0} - \\sqrt{n + \\kappa} \\pmb{e_i} & i = 1, \\cdots, n\\\\\n",
    "      \\pmb{x_0} + \\sqrt{n + \\kappa} \\pmb{e_i} & i = n+1, \\cdots, 2n\n",
    "\\end{cases}\n",
    "\\end{equation}\n",
    "Weights are given by:\n",
    "\\begin{equation}\n",
    "w_i^m = w_i^c =\n",
    "\\begin{cases} \n",
    "      \\frac{\\kappa}{n + \\kappa} & i = 0 \\\\\n",
    "      \\frac{1}{2(n+\\kappa)} & i = 1, \\cdots, 2n\n",
    "\\end{cases}\n",
    "\\end{equation}"
   ]
  },
  {
   "cell_type": "code",
   "execution_count": 2,
   "metadata": {},
   "outputs": [
    {
     "data": {
      "image/png": "[encoded data removed]",
      "text/plain": [
       "<Figure size 432x288 with 1 Axes>"
      ]
     },
     "metadata": {
      "needs_background": "light"
     },
     "output_type": "display_data"
    }
   ],
   "source": [
    "# Julier points in 2D\n",
    "points = TutSigmaPoints()\n",
    "X1, wm, wc = points.get_set(x0, Px, set_name = 'julier')\n",
    "# Different scaling parameter\n",
    "X2, wm, wc = points.get_set(x0, Px, set_name = 'julier', kappa = 2.)\n",
    "\n",
    "plt.scatter(X1[0,:], X1[1,:], s = 250.*wm / wm.max())\n",
    "plt.scatter(X2[0,:], X2[1,:], s = 250.*wm / wm.max(), marker = '^')\n",
    "plt.show()"
   ]
  },
  {
   "cell_type": "markdown",
   "metadata": {},
   "source": [
    "## Menegaz Sigma Points\n",
    "\n",
    "A computationally minimal set of $n+1$ sigma points, with one scaling parameter $0 < w_0 < 1$, is outlined in \\cite{Menegaz2011}. Some additional notation is necessary to define the point and weight sets. The notation $[a]_{p \\times q}$ with $a \\in \\mathbb{R}$ represents a matrix of dimension $p \\times q$ in which all terms are equal to $a$. The notation $\\text{diag}(\\pmb{x})$ for $\\pmb{x} \\in \\mathbb{R}^n$ denotes an $n \\times n$ matrix with $\\pmb{x}$ on the diagonal. Using these definitions, we have:\n",
    "\\begin{equation}\n",
    "X = \\left [ \\pmb{\\chi_0} \\cdots \\pmb{\\chi_n} \\right ] = \\left [- \\frac{[\\alpha]_{n \\times 1}}{w_0} \\; \\; C (\\sqrt{W})^{-1} \\right ] + \\left [ \\pmb{x_0} \\cdots \\pmb{x_0} \\right ]\n",
    "\\end{equation}\n",
    "\n",
    "\\begin{equation}\n",
    "W = \\text{diag}([w_1, \\cdots, w_n])\n",
    "\\end{equation}\n",
    "\n",
    "\\begin{equation}\n",
    "\\begin{bmatrix} \n",
    "w_1 & \\cdots & \\sqrt{w_1}\\sqrt{w_n} \\\\\n",
    "\\vdots & \\ddots & \\vdots \\\\\n",
    "\\sqrt{w_1} \\sqrt{w_n} & \\cdots & w_n \n",
    "\\end{bmatrix}\n",
    "= w_0 \\alpha^2 C^{-1} [1]_{n \\times n} (C^T)^{-1}\n",
    "\\end{equation}\n",
    "\n",
    "\\begin{equation}\n",
    "C = \\sqrt{I - \\alpha^2 [1]_{n \\times n}}\n",
    "\\end{equation}\n",
    "\n",
    "\\begin{equation}\n",
    "\\alpha = \\sqrt{\\frac{1 - w_0}{n}}\n",
    "\\end{equation}"
   ]
  },
  {
   "cell_type": "code",
   "execution_count": 3,
   "metadata": {},
   "outputs": [
    {
     "data": {
      "image/png": "[encoded data removed]",
      "text/plain": [
       "<Figure size 432x288 with 1 Axes>"
      ]
     },
     "metadata": {
      "needs_background": "light"
     },
     "output_type": "display_data"
    }
   ],
   "source": [
    "# Menegaz points in 2D\n",
    "X1, wm, wc = points.get_set(x0, Px, set_name = 'menegaz')\n",
    "# Different scaling parameter\n",
    "X2, wm, wc = points.get_set(x0, Px, set_name = 'menegaz', w0 = .9)\n",
    "\n",
    "plt.scatter(X1[0,:], X1[1,:], s = 250.*wm / wm.max())\n",
    "plt.scatter(X2[0,:], X2[1,:], s = 250.*wm / wm.max(), marker = '^')\n",
    "plt.show()"
   ]
  },
  {
   "cell_type": "markdown",
   "metadata": {},
   "source": [
    "## Simplex Sigma Points\n",
    "\n",
    "Another minimal set of $n+1$ sigma points, called the simplex set, is given in \\cite{Moireau2011}. A matrix containing the sigma points as column vectors\n",
    "\\begin{equation}\n",
    "X_{n+1}^* = \\left [ \\pmb{\\chi_0} \\cdots \\pmb{\\chi_n} \\right ] \n",
    "\\end{equation}\n",
    "is generated recursively. Letting \n",
    "\\begin{equation}\n",
    "X_1 = \\left [-\\frac{1}{2 \\alpha} \\quad \\frac{1}{2 \\alpha} \\right ]\n",
    "\\end{equation}\n",
    "where $\\alpha = \\frac{n}{n+1}$, $X_i^*$ is generated from $X_{i-1}^*$ via\n",
    "\\begin{equation}\n",
    "X_i^* = \n",
    "\\begin{bmatrix} \n",
    " & & & 0 \\\\\n",
    " & X_{i-1}^* & & \\vdots \\\\\n",
    " & & & 0 \\\\\n",
    " \\frac{1}{\\sqrt{\\alpha i (i + 1)}} &  \\frac{1}{\\sqrt{\\alpha i (i + 1)}} &  \\frac{1}{\\sqrt{\\alpha i (i + 1)}} &  \\frac{-i}{\\sqrt{\\alpha i (i + 1)}}\n",
    "\\end{bmatrix}.\n",
    "\\end{equation}\n",
    "Weights are given by \n",
    "\\begin{equation}\n",
    "w_i^m = w_i^c = \\alpha\n",
    "\\end{equation}."
   ]
  },
  {
   "cell_type": "code",
   "execution_count": 4,
   "metadata": {},
   "outputs": [
    {
     "data": {
      "image/png": "[encoded data removed]",
      "text/plain": [
       "<Figure size 432x288 with 1 Axes>"
      ]
     },
     "metadata": {
      "needs_background": "light"
     },
     "output_type": "display_data"
    }
   ],
   "source": [
    "# Simplex points in 2D\n",
    "X, wm, wc = points.get_set(x0, Px, set_name = 'simplex')\n",
    "\n",
    "plt.scatter(X[0,:], X[1,:], s = 250.*wm / wm.max())\n",
    "plt.show()"
   ]
  },
  {
   "cell_type": "markdown",
   "metadata": {},
   "source": [
    "## Li Sigma Points\n",
    "\n",
    "TUT includes a modified version of the fifth-order quadrature rule in \\cite{Zhao-Ming2017}. It contains one scaling parameter $\\lambda_2$. The quadrature rule is formulated in terms of fully symmetric sets of points. \n",
    "\n",
    "\\begin{definition}[Fully Symmetric Set]\n",
    "A set of points $S = \\{\\pmb{s_1}, \\pmb{s_2}, \\cdots, \\pmb{s_N}\\}$ is called fully symmetric if it is closed under the operations of coordinate position and sign permutations. The set $S$ is said to be generated by the vector $\\pmb{s}$ if all points in $S$ can be obtained by coordinate position and sign permutations of $\\pmb{s}$.\n",
    "\\end{definition}\n",
    "\n",
    "Sigma points are categorized in terms of three fully symmetric sets\n",
    "\\begin{equation}\n",
    "\\begin{gathered}\n",
    "X_0 = [0]_n  \\\\\n",
    "X_1 = [\\lambda_1]_n \\\\ \n",
    "X_2 = [\\lambda_2, \\lambda_2]_n\n",
    "\\end{gathered}\n",
    "\\end{equation}\n",
    "where, for example, the notation $[\\lambda_2, \\lambda_2]_n$ refers to the fully symmetric set of points generated by the $n$-dimensional vector $[\\lambda_2, \\lambda_2, 0, \\cdots, 0]^T$. The set $X_0$ is trivial, containing only the zero vector. An example of the fully symmetric set $[1,1]_3$ is shown below."
   ]
  },
  {
   "cell_type": "code",
   "execution_count": 5,
   "metadata": {},
   "outputs": [
    {
     "name": "stdout",
     "output_type": "stream",
     "text": [
      "[[ 1.  1. -1. -1.  1.  1. -1. -1.  0.  0.  0.  0.]\n",
      " [ 1. -1.  1. -1.  0.  0.  0.  0.  1.  1. -1. -1.]\n",
      " [ 0.  0.  0.  0.  1. -1.  1. -1.  1. -1.  1. -1.]]\n"
     ]
    }
   ],
   "source": [
    "from filterpy.kalman.tut.tut_util import generate_fully_symmetric_set\n",
    "\n",
    "# An aexample of the fully symmetric set [1,1]_3. Each column is \n",
    "# a point in the set\n",
    "S = generate_fully_symmetric_set(3, np.array([1.,1.]))\n",
    "print(S)"
   ]
  },
  {
   "cell_type": "markdown",
   "metadata": {},
   "source": [
    "The parameter $\\lambda_1$ depends on $\\lambda_2$ with \n",
    "\\begin{equation}\n",
    "\\lambda_1 = \\frac{\\lambda_2 \\sqrt{n-4}}{n - \\lambda_2^2 - 1}.\n",
    "\\end{equation}\n",
    "Hence, this method requires $n \\geq 5$ and $n - \\lambda_2^2 - 1 \\neq 0$. Each sigma point in a category has the same weight. Hence, the sets $X_0$, $X_1$, and $X_2$ have associated weights $w_0$, $w_1$, and $w_2$ respectively where\n",
    "\\begin{equation}\n",
    "w_2 = \\frac{4-n}{2 \\lambda_1^4}\n",
    "\\end{equation}\n",
    "\\begin{equation}\n",
    "w_3 = \\frac{1}{4 \\lambda_1^4}\n",
    "\\end{equation}\n",
    "\\begin{equation}\n",
    "w_1 = 1 - 2 n w_2 - 2n(n-1)w_3.\n",
    "\\end{equation}"
   ]
  },
  {
   "cell_type": "markdown",
   "metadata": {},
   "source": [
    "## Gauss-Hermite Sigma Points\n",
    "\n",
    "The third order Gauss-Hermite quadrature rule is a generalization of the 1D Gauss-Hermite quadrature rule for integrating $\\int_{\\mathbb{R}} f(x) e^{-x^2} \\; dx$. Weights and sigma points can be obtained using a tensor-product based formulation. The number of points grows exponentially with dimension, and the third order method requires a hefty $3^n$ points. An alternative formulation of the Gauss-Hermite sigma points involves categories of fully symmetric sets of sigma points \\cite{Peng2017}. In particular, there are $n+1$ classes of sigma points\n",
    "\\begin{equation}\n",
    "\\begin{gathered}\n",
    "X_0 = \\left [ 0 \\right ]_n \\\\\n",
    "X_1 = \\left [ \\sqrt{3} \\right ]_n \\\\ \n",
    "X_2 = \\left [ \\sqrt{3}, \\sqrt{3} \\right ]_n \\\\\n",
    "\\vdots \\\\\n",
    "X_n = \\left [\\sqrt{3}, \\cdots, \\sqrt{3} \\right ]_n.\n",
    "\\end{gathered}\n",
    "\\end{equation}\n",
    "Each sigma point in a given fully symmetric category has the same weight. Weights for each category are given by\n",
    "\\begin{equation}\n",
    "\\begin{gathered}\n",
    "w_0 = \\left ( \\frac{2}{3} \\right )^n \\\\\n",
    "w_1 = \\left ( \\frac{2}{3} \\right )^{n-1} \\left ( \\frac{1}{6} \\right ) \\\\\n",
    "w_2 = \\left ( \\frac{2}{3} \\right )^{n-2} \\left ( \\frac{1}{6} \\right )^2 \\\\\n",
    "\\vdots \\\\\n",
    "w_n = \\left ( \\frac{1}{6} \\right )^n.\n",
    "\\end{gathered}\n",
    "\\end{equation}\n",
    "\n"
   ]
  },
  {
   "cell_type": "code",
   "execution_count": 6,
   "metadata": {},
   "outputs": [
    {
     "data": {
      "image/png": "[encoded data removed]",
      "text/plain": [
       "<Figure size 432x288 with 1 Axes>"
      ]
     },
     "metadata": {
      "needs_background": "light"
     },
     "output_type": "display_data"
    }
   ],
   "source": [
    "# Gauss-hermite sigma points in 2D\n",
    "X, wm, wc = points.get_set(x0, Px, set_name = 'hermite')\n",
    "\n",
    "\n",
    "plt.scatter(X[0,:], X[1,:], s = 250.*wm / wm.max())\n",
    "plt.show()\n"
   ]
  },
  {
   "cell_type": "markdown",
   "metadata": {},
   "source": [
    "## Mysovskikh Sigma Points\n",
    "\n",
    "Another fifth order sigma point set is the Mysovskikh set consisting of $n^2 + 3n + 3$ points \\cite{}. The quadrature rule can be obtained from the transformation group of the regular simplex with vertices $\\pmb{a_1}, \\cdots, \\pmb{a_n}$ where $j$-th element of $\\pmb{a_i}$ \n",
    "\\begin{equation}\n",
    "a_{i,j} = \n",
    "\\begin{cases} \n",
    "      -\\sqrt{ \\frac{n+1}{n(n-j+2)(n-j+1)}} & i < j \\\\\n",
    "      \\sqrt{\\frac{(n+1)(n-i+1)}{n(n-i+2)}} & i = j \\\\\n",
    "      0 & i > j\n",
    "\\end{cases}.\n",
    "\\end{equation}\n",
    "The points $\\pmb{a_i}$ are sigma points, as are the origin $\\pmb{0}$, and points in the set\n",
    "\\begin{equation}\n",
    "\\{ \\pmb{b_k} \\} = \\left \\{ \\sqrt{\\frac{n}{2(n-1)}} \\left ( \\pmb{a_l} + \\pmb{a_m} \\right ) \\; | \\; l < m, \\; \\; m = 1, 2, \\cdots, n+1  \\right \\}. \n",
    "\\end{equation}\n",
    "The method is centrally symmetric. Hence, for every sigma point $\\pmb{a_i}$ and $\\pmb{b_k}$, -$\\pmb{a_i}$ and -$\\pmb{b_k}$ are also sigma points. The sigma point $\\pmb{0}$ has associated weight $w_0$, while points $\\pm \\pmb{a_i}$ and $\\pm \\pmb{b_j}$ have associated weights $w_1$ and $w_2$ respectively\n",
    "\n",
    "\\begin{equation}\n",
    "\\begin{gathered}\n",
    "w_0 = \\frac{2}{n + 2} \\\\\n",
    "w_1 = \\frac{n^2 (7 - n)}{2(n+1)^2 (n+2)^2} \\\\\n",
    "w_2 = \\frac{2(n-1)^2}{(n+1)^2 (n+2)^2}.\n",
    "\\end{gathered}\n",
    "\\end{equation}"
   ]
  },
  {
   "cell_type": "code",
   "execution_count": 5,
   "metadata": {},
   "outputs": [
    {
     "data": {
      "image/png": "[encoded data removed]",
      "text/plain": [
       "<Figure size 432x288 with 1 Axes>"
      ]
     },
     "metadata": {
      "needs_background": "light"
     },
     "output_type": "display_data"
    }
   ],
   "source": [
    "# Mysovskikh points in 2D\n",
    "X, wm, wc = points.get_set(x0, Px, set_name = 'mysovskikh')\n",
    "\n",
    "plt.scatter(X[0,:], X[1,:], s = 250.*wm / wm.max())\n",
    "plt.show()\n"
   ]
  },
  {
   "cell_type": "markdown",
   "metadata": {},
   "source": [
    "# References\n",
    "\n",
    "(<a id=\"cit-Merwe2004\" href=\"#call-Merwe2004\">Van der Merwe, 2004</a>) Van der Merwe R., ``_Conjugate Unscented Transformation : Applications to Estimation and Control_'', , vol. , number , pp. ,  2004.\n",
    "\n",
    "(<a id=\"cit-Julier1997\" href=\"#call-Julier1997\">Julier and Uhlmann, 1997</a>) Julier Simon J and Uhlmann Jeffrey K, ``_New extension of the Kalman filter to nonlinear systems_'', , vol. , number , pp. ,  1997.\n",
    "\n",
    "(<a id=\"cit-Menegaz2011\" href=\"#call-Menegaz2011\">Menegaz, Ishihara <em>et al.</em>, 2011</a>) H.M. Menegaz, J.Y. Ishihara and G.A. Borges, ``_A new smallest sigma set for the Unscented Transform and its applications on SLAM_'', ,  2011.\n",
    "\n",
    "(<a id=\"cit-Moireau2011\" href=\"#call-Moireau2011\">Moireau and Chapelle, 2011</a>) Moireau Philippe and Chapelle Dominique, ``_Erratum of article “Reduced-order Unscented Kalman Filtering with application to parameter identification in large-dimensional systems”_'', , vol. , number , pp. ,  2011.\n",
    "\n",
    "(<a id=\"cit-Zhao-Ming2017\" href=\"#call-Zhao-Ming2017\">Zhao-Ming, Wen-Ge <em>et al.</em>, 2017</a>) Zhao-Ming Li, Wen-Ge Yang, Dan Ding <em>et al.</em>, ``_A novel algorithm of fifth-degree cubature Kalman filter for orbit determination at the lower bound approaching to the number of cubature points_'', , vol. , number , pp. ,  2017.\n",
    "\n",
    "(<a id=\"cit-Peng2017\" href=\"#call-Peng2017\">Peng, Duan <em>et al.</em>, 2017</a>) Peng Lijun, Duan Xiaojun and Zhu Jubo, ``_A New Sparse Gauss-Hermite Cubature Rule Based on Relative-Weight-Ratios for Bearing-Ranging Target Tracking_'', Modelling and Simulation in Engineering, vol. , number , pp. ,  2017.\n",
    "\n"
   ]
  }
 ],
 "metadata": {
  "kernelspec": {
   "display_name": ".mut",
   "language": "python",
   "name": ".mut"
  },
  "language_info": {
   "codemirror_mode": {
    "name": "ipython",
    "version": 3
   },
   "file_extension": ".py",
   "mimetype": "text/x-python",
   "name": "python",
   "nbconvert_exporter": "python",
   "pygments_lexer": "ipython3",
   "version": "3.6.7"
  },
  "latex_envs": {
   "LaTeX_envs_menu_present": true,
   "autoclose": false,
   "autocomplete": true,
   "bibliofile": "biblio.bib",
   "cite_by": "apalike",
   "current_citInitial": 1,
   "eqLabelWithNumbers": true,
   "eqNumInitial": 1,
   "hotkeys": {
    "equation": "Ctrl-E",
    "itemize": "Ctrl-I"
   },
   "labels_anchors": false,
   "latex_user_defs": false,
   "report_style_numbering": false,
   "user_envs_cfg": false
  }
 },
 "nbformat": 4,
 "nbformat_minor": 2
}
