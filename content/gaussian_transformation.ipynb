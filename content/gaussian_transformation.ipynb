{
 "cells": [
  {
   "cell_type": "markdown",
   "metadata": {},
   "source": [
    "# Nonlinear Transformation of a Gaussian\n",
    "\n",
    "Suppose that $\\pmb{x} \\sim N(\\pmb{x_0}, P_x)$ is a Gaussian random variable with mean $\\pmb{x_0}$ and covariance matrix $P_x$. If $f : \\mathbb{R}^n \\to \\mathbb{R}^m$ is a nonlinear function, we would like to approximate the statistics of the non-Gaussian random variable\n",
    "\\begin{equation}\n",
    "\\pmb{y} = f(\\pmb{x}) \n",
    "\\end{equation}\n",
    "There are many practical applications of this problem, particularly in Gaussian filters such as the unscented Kalman problem. Formally, the probability density of the random variable $\\pmb{y}$ is given by \n",
    "\\begin{equation}\n",
    "P(\\pmb{y}) = \n",
    "\\begin{cases} \n",
    "      |J(\\pmb{y})| N(f^{-1}(\\pmb{y}) | \\pmb{x_0}, P_x) & \\text{ if } \\pmb{y} = f(\\pmb{x}) \\text{ for some } \\pmb{x} \\\\\n",
    "      0 & \\text{otherwise} \n",
    "\\end{cases}\n",
    "\\end{equation}\n",
    "where $|J(\\pmb{y})|$ is the determinant of the Jacobian of $f^{-1}$. Technically this applies for strictly monotone differentiable functions $f$ \\cite{Sarkka2013}. \n",
    "\n",
    "Below, we show a simple example of computing the PDF of a transformed Gaussian random variable analytically and via random sampling. In particular, we let $x \\sim N(0, 1)$ and $f$ be the logistic function \n",
    "\\begin{equation}\n",
    "y = \\mathcal{F}(x) = \\frac{1}{1 + e^{-x}}.\n",
    "\\end{equation}"
   ]
  },
  {
   "cell_type": "code",
   "execution_count": 5,
   "metadata": {},
   "outputs": [
    {
     "data": {
      "image/png": "[encoded data removed]",
      "text/plain": [
       "<Figure size 432x288 with 1 Axes>"
      ]
     },
     "metadata": {
      "needs_background": "light"
     },
     "output_type": "display_data"
    }
   ],
   "source": [
    "import numpy as np\n",
    "import matplotlib.pyplot as plt\n",
    "import plot.basic_plot\n",
    "\n",
    "# Plot the probability distribution for y = f(x) \n",
    "# where f(x) is the logistic function and x ~ N(0,1)\n",
    "\n",
    "# Probability density of x\n",
    "def Px(x):\n",
    "    return (1./np.sqrt(2.*np.pi)) * np.exp(-x**2 / 2.)\n",
    "\n",
    "# Nonlinear function\n",
    "def f(x):\n",
    "    return 1. / (1. + np.exp(-x))\n",
    "\n",
    "# Inverse of nonlinear function\n",
    "def f_inv(x):\n",
    "    return np.log(x / (1. - x))\n",
    "\n",
    "# Probability density of y\n",
    "def Py(y):\n",
    "    # Determinant of Jacobian of F^{-1}(y) \n",
    "    Jy = (1. / y) + (1. / (1. - y))\n",
    "    return Jy*Px(f_inv(y))\n",
    "\n",
    "# Randomly sample from the distribution and plot a histogram \n",
    "x = np.random.randn(7500)\n",
    "plt.hist(f(x), bins = 100, density = True)\n",
    "# Plot the distribution computed analytically\n",
    "y = np.linspace(1e-16, 1.0-1e-16, 1000)\n",
    "plt.plot(y, Py(y))\n",
    "\n",
    "plt.xlabel('y')\n",
    "plt.ylabel('P(y)')\n",
    "\n",
    "plt.show()\n"
   ]
  },
  {
   "cell_type": "markdown",
   "metadata": {},
   "source": [
    "## Expected Value Integrals\n",
    "\n",
    "Using the definition above is cumbersome and rarely practical for complicated nonlinear transformations. Typically, we are more interested in computing certain statistics of the random variable $\\pmb{y}$, such as its mean and covariance. Enter the law of the unconscious statistician. \n",
    "\n",
    "As before, suppose that $\\pmb{x}$ is a Gaussian random variable. We can compute the expected value or mean of $\\pmb{y} = f(\\pmb{x})$ denoted $E[\\pmb{y}]$ without explicitly knowing its associated probability density function as follows\n",
    "\n",
    "\\begin{equation}\n",
    "\\label{eq:gwint}\n",
    "E[\\pmb{y}] = \\int_{\\mathbb{R}^n} f(\\pmb{x}) N(\\pmb{x} | \\pmb{x_0}, P_x) d \\pmb{x}.\n",
    "\\end{equation}\n",
    "\n",
    "That is, $E[\\pmb{y}]$ can be computed as a Gaussian weighted integral. Let's return to our logistic function example $y = f(x) = \\frac{1}{1 + e^{-x}}$ and compute the expected value of $y$ using random sampling and numerical integration using the law of the unconscious statistician."
   ]
  },
  {
   "cell_type": "code",
   "execution_count": 8,
   "metadata": {},
   "outputs": [
    {
     "name": "stdout",
     "output_type": "stream",
     "text": [
      "Random sampling estimate: 0.5014504701239816\n",
      "Integral estimate: 0.49999999901341236\n"
     ]
    }
   ],
   "source": [
    "from scipy.integrate import quad\n",
    "\n",
    "# Estimate expected value of y by random sampling\n",
    "y_mean1 = f(x).mean()\n",
    "\n",
    "# Estimate expected value of y using the result above \n",
    "# and numerical quadrature \n",
    "y_mean2 = quad(lambda x : f(x)*Px(x), -6., 6.)[0]\n",
    "\n",
    "print(\"Random sampling estimate: {}\".format(y_mean1))\n",
    "print(\"Integral estimate: {}\".format(y_mean2))"
   ]
  },
  {
   "cell_type": "markdown",
   "metadata": {},
   "source": [
    "Covariance is also defined in terms of expected values integrals, and can therefore be approximated using similar weighted integrals. We will discuss covariance of a transformed random variable in more detail later. \n",
    "\\begin{equation}\n",
    "\\text{Cov}[\\pmb{y}] = E[(f(\\pmb{x}) - E[f(\\pmb{x})])(f(\\pmb{x}) - E[f(\\pmb{x})])^T]\n",
    "\\end{equation}\n",
    "\n",
    "\n",
    "Given the importance of the expected value integrals in filtering applications, considerable effort has gone into efficiently estimating Gaussian weighted integrals of the form shown in Equation \\ref{eq:gwint}. For a simple 1D problem, a basic quadrature rule suffices. However, for high dimensional problems, the number of points in standard quadrature rules grows exponentially, and estimating expected value integrals soon becomes intractable. In the next section, we'll show an example of an efficient method for computing Gaussian weighted integrals called the Unscented Transform. "
   ]
  }
 ],
 "metadata": {
  "kernelspec": {
   "display_name": ".mut",
   "language": "python",
   "name": ".mut"
  },
  "language_info": {
   "codemirror_mode": {
    "name": "ipython",
    "version": 3
   },
   "file_extension": ".py",
   "mimetype": "text/x-python",
   "name": "python",
   "nbconvert_exporter": "python",
   "pygments_lexer": "ipython3",
   "version": "3.6.7"
  },
  "latex_envs": {
   "LaTeX_envs_menu_present": true,
   "autoclose": false,
   "autocomplete": true,
   "bibliofile": "biblio.bib",
   "cite_by": "apalike",
   "current_citInitial": 1,
   "eqLabelWithNumbers": true,
   "eqNumInitial": 1,
   "hotkeys": {
    "equation": "Ctrl-E",
    "itemize": "Ctrl-I"
   },
   "labels_anchors": false,
   "latex_user_defs": false,
   "report_style_numbering": false,
   "user_envs_cfg": false
  }
 },
 "nbformat": 4,
 "nbformat_minor": 2
}
